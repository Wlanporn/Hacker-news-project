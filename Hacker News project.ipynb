{
 "cells": [
  {
   "cell_type": "markdown",
   "metadata": {},
   "source": [
    "# Hacker news \n",
    "\n",
    "This is a project that will analyze post in Hacker news website. Hacker News is a site started by the startup incubator Y Combinator, where user-submitted stories (known as \"posts\") are voted and commented upon, similar to reddit. Hacker News is extremely popular in technology and startup circles, and posts that make it to the top of Hacker News' listings can get hundreds of thousands of visitors as a result.\n",
    "\n",
    "We would like to see what is the factors that make posts get a lot of attentions e.g. comments. We're specifically interested in posts whose titles begin with either Ask HN or Show HN. Users submit Ask HN posts to ask the Hacker News community a specific question. Likewise, users submit Show HN posts to show the Hacker News community a project, product, or just generally something interesting."
   ]
  },
  {
   "cell_type": "code",
   "execution_count": 1,
   "metadata": {},
   "outputs": [],
   "source": [
    "open_file = open(\"C:/Users/dowre/GIT/Hacker News/HN_posts_year_to_Sep_26_2016.csv\" , encoding=\"utf8\" )"
   ]
  },
  {
   "cell_type": "code",
   "execution_count": 2,
   "metadata": {},
   "outputs": [],
   "source": [
    "from csv import reader\n",
    "read_file = reader(open_file)\n",
    "hn_org = list(read_file)\n",
    "hn_header = hn_org[0]\n",
    "hn = hn_org[1:]"
   ]
  },
  {
   "cell_type": "code",
   "execution_count": 3,
   "metadata": {},
   "outputs": [
    {
     "data": {
      "text/plain": [
       "[['id', 'title', 'url', 'num_points', 'num_comments', 'author', 'created_at'],\n",
       " ['12579008',\n",
       "  'You have two days to comment if you want stem cells to be classified as your own',\n",
       "  'http://www.regulations.gov/document?D=FDA-2015-D-3719-0018',\n",
       "  '1',\n",
       "  '0',\n",
       "  'altstar',\n",
       "  '9/26/2016 3:26']]"
      ]
     },
     "execution_count": 3,
     "metadata": {},
     "output_type": "execute_result"
    }
   ],
   "source": [
    "hn_org[:2]"
   ]
  },
  {
   "cell_type": "code",
   "execution_count": 4,
   "metadata": {},
   "outputs": [
    {
     "data": {
      "text/plain": [
       "['id', 'title', 'url', 'num_points', 'num_comments', 'author', 'created_at']"
      ]
     },
     "execution_count": 4,
     "metadata": {},
     "output_type": "execute_result"
    }
   ],
   "source": [
    "hn_header"
   ]
  },
  {
   "cell_type": "code",
   "execution_count": 5,
   "metadata": {},
   "outputs": [
    {
     "data": {
      "text/plain": [
       "[['12579008',\n",
       "  'You have two days to comment if you want stem cells to be classified as your own',\n",
       "  'http://www.regulations.gov/document?D=FDA-2015-D-3719-0018',\n",
       "  '1',\n",
       "  '0',\n",
       "  'altstar',\n",
       "  '9/26/2016 3:26'],\n",
       " ['12579005',\n",
       "  'SQLAR  the SQLite Archiver',\n",
       "  'https://www.sqlite.org/sqlar/doc/trunk/README.md',\n",
       "  '1',\n",
       "  '0',\n",
       "  'blacksqr',\n",
       "  '9/26/2016 3:24'],\n",
       " ['12578997',\n",
       "  'What if we just printed a flatscreen television on the side of our boxes?',\n",
       "  'https://medium.com/vanmoof/our-secrets-out-f21c1f03fdc8#.ietxmez43',\n",
       "  '1',\n",
       "  '0',\n",
       "  'pavel_lishin',\n",
       "  '9/26/2016 3:19']]"
      ]
     },
     "execution_count": 5,
     "metadata": {},
     "output_type": "execute_result"
    }
   ],
   "source": [
    "hn[:3]"
   ]
  },
  {
   "cell_type": "code",
   "execution_count": 6,
   "metadata": {},
   "outputs": [
    {
     "data": {
      "text/plain": [
       "293119"
      ]
     },
     "execution_count": 6,
     "metadata": {},
     "output_type": "execute_result"
    }
   ],
   "source": [
    "#total row of hn\n",
    "len(hn)"
   ]
  },
  {
   "cell_type": "markdown",
   "metadata": {},
   "source": [
    "## Data cleaning\n",
    "1. Verify unique value \n",
    "\n",
    "Only id column should has unique so we verify that id value is unique."
   ]
  },
  {
   "cell_type": "code",
   "execution_count": 7,
   "metadata": {},
   "outputs": [
    {
     "name": "stdout",
     "output_type": "stream",
     "text": [
      "List contains all unique id \n"
     ]
    }
   ],
   "source": [
    "flag = 0\n",
    "flag = len(set(hn[0])) == len(hn[0])\n",
    "if(flag) : \n",
    "    print (\"List contains all unique id \") \n",
    "else :  \n",
    "    print (\"List contains does not contains all unique id\") \n"
   ]
  },
  {
   "cell_type": "markdown",
   "metadata": {},
   "source": [
    "2. Verify the missing data. \n",
    "After go throught the data roughly, data in the following columns should not be empty.\n",
    "- id\n",
    "- title\n",
    "- num_points\n",
    "- num_comments\n",
    "- author\n",
    "- created_at\n",
    "\n",
    " For created_at which is in date form we can put in 1/1/2016 0:00 as default."
   ]
  },
  {
   "cell_type": "code",
   "execution_count": 8,
   "metadata": {},
   "outputs": [
    {
     "name": "stdout",
     "output_type": "stream",
     "text": [
      "Number of missing id row is 0\n",
      "Number of missing title row is 0\n",
      "Number of missing num_points row is 30\n",
      "Number of missing num_comments row is 1\n",
      "Number of missing author row is 0\n",
      "Number of missing created_at row is 0\n"
     ]
    }
   ],
   "source": [
    "missing_id = []\n",
    "missing_title = []\n",
    "missing_num_points = []\n",
    "missing_num_comments = []\n",
    "missing_author = []\n",
    "missing_created_at = []\n",
    "for post in hn:\n",
    "    id_post = post[0]\n",
    "    title = post[1]\n",
    "    num_points = post[3]\n",
    "    num_comments = post[4]\n",
    "    author= post[5]\n",
    "    created_at = post[6]\n",
    "    if not id_post:\n",
    "        missing_id.append(post)\n",
    "    elif not title:\n",
    "        missing_title.append(post)\n",
    "    elif not num_points:\n",
    "        missing_num_points.append(post)\n",
    "    elif not num_comments:\n",
    "        missing_num_comments.append(post)\n",
    "    elif not author:\n",
    "        missing_author.append(post)\n",
    "    elif not created_at:\n",
    "        missing_created_at.append(post)\n",
    "\n",
    "print('Number of missing id row is {:,}'.format(len(missing_id)))\n",
    "print('Number of missing title row is {:,}'.format(len(missing_title)))\n",
    "print('Number of missing num_points row is {:,}'.format(len(missing_num_points)))\n",
    "print('Number of missing num_comments row is {:,}'.format(len(missing_num_comments)))\n",
    "print('Number of missing author row is {:,}'.format(len(missing_author)))\n",
    "print('Number of missing created_at row is {:,}'.format(len(missing_created_at)))\n"
   ]
  },
  {
   "cell_type": "markdown",
   "metadata": {},
   "source": [
    "As the result, num_points and num_comments columns have some missing values. The columns are in integer form which empty value will be equal to 0. We can leave it as is because it returns the same results when calculated."
   ]
  },
  {
   "cell_type": "markdown",
   "metadata": {},
   "source": [
    "3. Verify data type.\n",
    "All data in each column are currently in string type. However, originaly some columns should be in other type as follow:\n",
    "- id : int\n",
    "- num_points : int\n",
    "- num_comments : int\n",
    "- created_at : date\n",
    "\n",
    "We should verify that data in each fields are in the correct format."
   ]
  },
  {
   "cell_type": "code",
   "execution_count": 9,
   "metadata": {},
   "outputs": [],
   "source": [
    "# Create function to verify that the value can convert to int type.\n",
    "def isint(value):\n",
    "    try:\n",
    "        int(value)\n",
    "        return True\n",
    "    except ValueError:\n",
    "        return False"
   ]
  },
  {
   "cell_type": "code",
   "execution_count": 10,
   "metadata": {},
   "outputs": [],
   "source": [
    "# Create function to verify that the value can convert to datetime type.\n",
    "import datetime as dt\n",
    "def isdate(value):\n",
    "    try:\n",
    "        dt.datetime.strptime(value,\"%m/%d/%Y %H:%M\" )\n",
    "        return True\n",
    "    except ValueError:\n",
    "        return False"
   ]
  },
  {
   "cell_type": "code",
   "execution_count": 11,
   "metadata": {},
   "outputs": [
    {
     "name": "stdout",
     "output_type": "stream",
     "text": [
      "Id that is not in int type are 0\n",
      "num_points that is not in int type are 681\n",
      "num_comments that is not in int type are 44\n",
      "created_at that is not in date type are 681\n"
     ]
    }
   ],
   "source": [
    "wrong_type_id = []\n",
    "wrong_type_num_points = {}\n",
    "wrong_type_num_comments = {}\n",
    "wrong_type_created_at = {}\n",
    "for post in hn:\n",
    "    id_type = isint(post[0])\n",
    "    num_points_type = isint(post[3])\n",
    "    num_comments_type = isint(post[4])\n",
    "    created_at_type = isdate(post[6])\n",
    "    if id_type == False:\n",
    "        wrong_type_id.append(post[0])\n",
    "    if num_points_type== False:\n",
    "        wrong_type_num_points[post[0]] = post[3]\n",
    "    if num_comments_type== False:\n",
    "        wrong_type_num_comments[post[0]]= post[4]\n",
    "    if created_at_type == False:\n",
    "        wrong_type_created_at[post[0]] = post[6]\n",
    "        \n",
    "print(\"Id that is not in int type are\", len(wrong_type_id))\n",
    "print(\"num_points that is not in int type are\", len(wrong_type_num_points))\n",
    "print(\"num_comments that is not in int type are\", len(wrong_type_num_comments))\n",
    "print(\"created_at that is not in date type are\", len(wrong_type_created_at))"
   ]
  },
  {
   "cell_type": "code",
   "execution_count": 12,
   "metadata": {},
   "outputs": [
    {
     "data": {
      "text/plain": [
       "{'12570231': 'https://github.com/you-dont-need/You-Dont-Need-GUI',\n",
       " '12563145': 'https://github.com/Dobiasd/articles/blob/master/functional_programming_in_cpp_with_the_functionalplus_library_today_hackerrank_challange_gemstones.md',\n",
       " '12560370': 'https://aenramsden.tumblr.com/post/150263745069/personality-not-just-for-humans',\n",
       " '12559863': 'http://www.intp.io/blog/2016/09/20/Of-Mercenaries-and-Soldiers-In-House-Versus-Third-Party-Tech-Teams/',\n",
       " '12559266': 'http://futurism.com/new-form-of-atomic-nuclei-just-confirmed-and-it-suggests-time-travel-is-impossible/'}"
      ]
     },
     "execution_count": 12,
     "metadata": {},
     "output_type": "execute_result"
    }
   ],
   "source": [
    "#wrong_num_points_list \n",
    "dict(list(wrong_type_num_points.items())[0: 5])"
   ]
  },
  {
   "cell_type": "code",
   "execution_count": 13,
   "metadata": {},
   "outputs": [
    {
     "data": {
      "text/plain": [
       "{'12499077': '_fruit_flies_like_a_banana',\n",
       " '12251820': 'pgtype=Homepage&amp',\n",
       " '12224842': 'http://esports-marketing-blog.com/eleague-season-1-by-the-numbers/',\n",
       " '12133174': 'http://breuleux.net/blog/language-howto.html',\n",
       " '12116178': 'http://www.themacro.com/articles/2016/07/nick-grandy/'}"
      ]
     },
     "execution_count": 13,
     "metadata": {},
     "output_type": "execute_result"
    }
   ],
   "source": [
    "#wrong_num_comments_list \n",
    "dict(list(wrong_type_num_comments.items())[0: 5])"
   ]
  },
  {
   "cell_type": "code",
   "execution_count": 14,
   "metadata": {},
   "outputs": [
    {
     "data": {
      "text/plain": [
       "{'12570231': 'stevemao',\n",
       " '12563145': 'Dobiasd',\n",
       " '12560370': 'Mz',\n",
       " '12559863': 'intpsoftware',\n",
       " '12559266': 'wolfgke'}"
      ]
     },
     "execution_count": 14,
     "metadata": {},
     "output_type": "execute_result"
    }
   ],
   "source": [
    "#wrong_created_at_list \n",
    "dict(list(wrong_type_created_at.items())[0: 5])"
   ]
  },
  {
   "cell_type": "markdown",
   "metadata": {},
   "source": [
    "According to the number of incorrect type in num_points column and created_at column are exactly the same which is 681. We would like the make sure that those are the same row."
   ]
  },
  {
   "cell_type": "code",
   "execution_count": 15,
   "metadata": {},
   "outputs": [
    {
     "data": {
      "text/plain": [
       "True"
      ]
     },
     "execution_count": 15,
     "metadata": {},
     "output_type": "execute_result"
    }
   ],
   "source": [
    "set(wrong_type_num_points) == set(wrong_type_created_at)"
   ]
  },
  {
   "cell_type": "markdown",
   "metadata": {},
   "source": [
    "The number of incorrect type in num_comments columns is 44. Check whether they are subset of incorrect num_points list or not."
   ]
  },
  {
   "cell_type": "code",
   "execution_count": 16,
   "metadata": {},
   "outputs": [
    {
     "name": "stdout",
     "output_type": "stream",
     "text": [
      "Yes\n"
     ]
    }
   ],
   "source": [
    "if(set(wrong_type_num_comments).issubset(set(wrong_type_num_points))):\n",
    "    print('Yes')\n",
    "else:\n",
    "    print('No')"
   ]
  },
  {
   "cell_type": "markdown",
   "metadata": {},
   "source": [
    "##### Create new clean data"
   ]
  },
  {
   "cell_type": "code",
   "execution_count": 17,
   "metadata": {},
   "outputs": [
    {
     "name": "stdout",
     "output_type": "stream",
     "text": [
      "Total clean data is 292,438\n"
     ]
    }
   ],
   "source": [
    "hn_clean =[]\n",
    "for post in hn:\n",
    "    post_id = post[0]\n",
    "    if post_id not in wrong_type_num_points:\n",
    "        hn_clean.append(post)\n",
    "\n",
    "print('Total clean data is {:,}'.format(len(hn_clean)))"
   ]
  },
  {
   "cell_type": "markdown",
   "metadata": {},
   "source": [
    "## Data Analysis\n",
    "\n",
    "As mention earlier that we are interested in the post that begin with Ask HN or Show HN. We will separate data into separate list."
   ]
  },
  {
   "cell_type": "code",
   "execution_count": 18,
   "metadata": {},
   "outputs": [
    {
     "name": "stdout",
     "output_type": "stream",
     "text": [
      "Number of Ask HN post are 9,126\n",
      "Number of Show HN post are 10,146\n",
      "Number of Other post are 273,166\n"
     ]
    }
   ],
   "source": [
    "ask_posts = []\n",
    "show_posts = []\n",
    "other_posts = []\n",
    "\n",
    "for row in hn_clean:\n",
    "    title = row[1]\n",
    "    title = title.lower()\n",
    "    if title.startswith('ask hn'):\n",
    "        ask_posts.append(row)\n",
    "    elif title.startswith('show hn'):\n",
    "        show_posts.append(row)\n",
    "    else:\n",
    "        other_posts.append(row)\n",
    "\n",
    "print(\"Number of Ask HN post are {0:,}\".format(len(ask_posts)))\n",
    "print(\"Number of Show HN post are {0:,}\".format(len(show_posts))) \n",
    "print(\"Number of Other post are {0:,}\".format(len(other_posts)))\n",
    "        "
   ]
  },
  {
   "cell_type": "code",
   "execution_count": 19,
   "metadata": {},
   "outputs": [
    {
     "data": {
      "text/plain": [
       "[['12578908',\n",
       "  'Ask HN: What TLD do you use for local development?',\n",
       "  '',\n",
       "  '4',\n",
       "  '7',\n",
       "  'Sevrene',\n",
       "  '9/26/2016 2:53'],\n",
       " ['12578522',\n",
       "  'Ask HN: How do you pass on your work when you die?',\n",
       "  '',\n",
       "  '6',\n",
       "  '3',\n",
       "  'PascLeRasc',\n",
       "  '9/26/2016 1:17'],\n",
       " ['12577908',\n",
       "  'Ask HN: How a DNS problem can be limited to a geographic region?',\n",
       "  '',\n",
       "  '1',\n",
       "  '0',\n",
       "  'kuon',\n",
       "  '9/25/2016 22:57'],\n",
       " ['12577870',\n",
       "  'Ask HN: Why join a fund when you can be an angel?',\n",
       "  '',\n",
       "  '1',\n",
       "  '3',\n",
       "  'anthony_james',\n",
       "  '9/25/2016 22:48']]"
      ]
     },
     "execution_count": 19,
     "metadata": {},
     "output_type": "execute_result"
    }
   ],
   "source": [
    "ask_posts[:4]"
   ]
  },
  {
   "cell_type": "code",
   "execution_count": 20,
   "metadata": {},
   "outputs": [
    {
     "data": {
      "text/plain": [
       "[['12578335',\n",
       "  'Show HN: Finding puns computationally',\n",
       "  'http://puns.samueltaylor.org/',\n",
       "  '2',\n",
       "  '0',\n",
       "  'saamm',\n",
       "  '9/26/2016 0:36'],\n",
       " ['12578182',\n",
       "  'Show HN: A simple library for complicated animations',\n",
       "  'https://christinecha.github.io/choreographer-js/',\n",
       "  '1',\n",
       "  '0',\n",
       "  'christinecha',\n",
       "  '9/26/2016 0:01'],\n",
       " ['12578098',\n",
       "  'Show HN: WebGL visualization of DNA sequences',\n",
       "  'http://grondilu.github.io/dna.html',\n",
       "  '1',\n",
       "  '0',\n",
       "  'grondilu',\n",
       "  '9/25/2016 23:44'],\n",
       " ['12577991',\n",
       "  'Show HN: Pomodoro-centric, heirarchical project management with ES6 modules',\n",
       "  'https://github.com/jakebian/zeal',\n",
       "  '2',\n",
       "  '0',\n",
       "  'dbranes',\n",
       "  '9/25/2016 23:17']]"
      ]
     },
     "execution_count": 20,
     "metadata": {},
     "output_type": "execute_result"
    }
   ],
   "source": [
    "show_posts[:4]"
   ]
  },
  {
   "cell_type": "markdown",
   "metadata": {},
   "source": [
    "##### Let's check whether ask posts or show posts receive more comments on average.\n",
    "\n",
    "Start with find average number of comment on ASK HN posts."
   ]
  },
  {
   "cell_type": "code",
   "execution_count": 21,
   "metadata": {},
   "outputs": [
    {
     "name": "stdout",
     "output_type": "stream",
     "text": [
      "Average comment for Ask HN post is 10.39\n"
     ]
    }
   ],
   "source": [
    "total_ask_comments = 0\n",
    "for post in ask_posts:\n",
    "    ask_comment = int(post[4])\n",
    "    total_ask_comments += ask_comment\n",
    "avg_ask_comments = total_ask_comments/len(ask_posts)\n",
    "print(\"Average comment for Ask HN post is {number:.2f}\".format(number=avg_ask_comments))\n"
   ]
  },
  {
   "cell_type": "markdown",
   "metadata": {},
   "source": [
    "Find average number of comment on Show HN posts."
   ]
  },
  {
   "cell_type": "code",
   "execution_count": 22,
   "metadata": {},
   "outputs": [
    {
     "name": "stdout",
     "output_type": "stream",
     "text": [
      "Average comment for Show HN post is 4.89\n"
     ]
    }
   ],
   "source": [
    "total_show_comments = 0\n",
    "for post in show_posts:\n",
    "    show_comment = int(post[4])\n",
    "    total_show_comments += show_comment\n",
    "avg_show_comments = total_show_comments/len(show_posts)\n",
    "print(\"Average comment for Show HN post is {number:.2f}\".format(number=avg_show_comments))"
   ]
  },
  {
   "cell_type": "markdown",
   "metadata": {},
   "source": [
    "From the above results, we can see that Ask HN post recieve more comments than Show HN posts. Therefore , we will focus on the ASK HN posts."
   ]
  },
  {
   "cell_type": "markdown",
   "metadata": {},
   "source": [
    "Next, we'll determine if ask posts created at a certain time are more likely to attract comments."
   ]
  },
  {
   "cell_type": "code",
   "execution_count": 23,
   "metadata": {},
   "outputs": [
    {
     "name": "stdout",
     "output_type": "stream",
     "text": [
      "counts_by_hour {2: 269, 1: 282, 22: 382, 21: 517, 19: 548, 17: 585, 15: 645, 14: 513, 13: 444, 11: 311, 10: 281, 9: 222, 7: 226, 3: 271, 23: 343, 20: 509, 16: 579, 8: 257, 0: 301, 18: 613, 12: 342, 4: 243, 6: 234, 5: 209}\n",
      "comments_by_hour {2: 2996, 1: 2089, 22: 3353, 21: 4478, 19: 3933, 17: 5542, 15: 18524, 14: 4972, 13: 7245, 11: 2795, 10: 2963, 9: 1477, 7: 1585, 3: 2154, 23: 2297, 20: 4441, 16: 4466, 8: 2362, 0: 2277, 18: 4876, 12: 4234, 4: 2360, 6: 1587, 5: 1838}\n"
     ]
    }
   ],
   "source": [
    "counts_by_hour = {}\n",
    "comments_by_hour ={}\n",
    "for post in ask_posts:\n",
    "    post_datetime = post[6]\n",
    "    post_datetime_1 = dt.datetime.strptime(post_datetime, \"%m/%d/%Y %H:%M\")\n",
    "    post_hour = post_datetime_1.hour\n",
    "    post_comment = int(post[4])\n",
    "    if post_hour not in counts_by_hour:\n",
    "        counts_by_hour[post_hour] = 1\n",
    "        comments_by_hour[post_hour] = post_comment\n",
    "    else:\n",
    "        counts_by_hour[post_hour] += 1\n",
    "        comments_by_hour[post_hour] += post_comment\n",
    "\n",
    "\n",
    "print(\"counts_by_hour\",counts_by_hour)\n",
    "print(\"comments_by_hour\",comments_by_hour)"
   ]
  },
  {
   "cell_type": "code",
   "execution_count": 24,
   "metadata": {},
   "outputs": [
    {
     "data": {
      "text/plain": [
       "[(15, 645),\n",
       " (18, 613),\n",
       " (17, 585),\n",
       " (16, 579),\n",
       " (19, 548),\n",
       " (21, 517),\n",
       " (14, 513),\n",
       " (20, 509),\n",
       " (13, 444),\n",
       " (22, 382),\n",
       " (23, 343),\n",
       " (12, 342),\n",
       " (11, 311),\n",
       " (0, 301),\n",
       " (1, 282),\n",
       " (10, 281),\n",
       " (3, 271),\n",
       " (2, 269),\n",
       " (8, 257),\n",
       " (4, 243),\n",
       " (6, 234),\n",
       " (7, 226),\n",
       " (9, 222),\n",
       " (5, 209)]"
      ]
     },
     "execution_count": 24,
     "metadata": {},
     "output_type": "execute_result"
    }
   ],
   "source": [
    "#sort the counts_by_hour from max to min\n",
    "import operator\n",
    "sort_counts_by_hour = sorted(counts_by_hour.items(), key = operator.itemgetter(1), reverse = True)\n",
    "sort_counts_by_hour"
   ]
  },
  {
   "cell_type": "markdown",
   "metadata": {},
   "source": [
    "People like to post Ask HN posts after 2 pm."
   ]
  },
  {
   "cell_type": "code",
   "execution_count": 25,
   "metadata": {},
   "outputs": [
    {
     "data": {
      "text/plain": [
       "[(15, 18524),\n",
       " (13, 7245),\n",
       " (17, 5542),\n",
       " (14, 4972),\n",
       " (18, 4876),\n",
       " (21, 4478),\n",
       " (16, 4466),\n",
       " (20, 4441),\n",
       " (12, 4234),\n",
       " (19, 3933),\n",
       " (22, 3353),\n",
       " (2, 2996),\n",
       " (10, 2963),\n",
       " (11, 2795),\n",
       " (8, 2362),\n",
       " (4, 2360),\n",
       " (23, 2297),\n",
       " (0, 2277),\n",
       " (3, 2154),\n",
       " (1, 2089),\n",
       " (5, 1838),\n",
       " (6, 1587),\n",
       " (7, 1585),\n",
       " (9, 1477)]"
      ]
     },
     "execution_count": 25,
     "metadata": {},
     "output_type": "execute_result"
    }
   ],
   "source": [
    "#sort the comments_by_hour from max to min\n",
    "sort_comments_by_hour = sorted(comments_by_hour.items(),key = operator.itemgetter(1), reverse = True)\n",
    "sort_comments_by_hour"
   ]
  },
  {
   "cell_type": "markdown",
   "metadata": {},
   "source": [
    "The posts that are created in the afternoon are most likely to get more comments than in the morning.\n",
    "Especially during 3 pm. it has the hightest rate of post created and post comments.\n",
    "\n",
    "Next, we will calculate the average number of comments in each post during each hour of the day."
   ]
  },
  {
   "cell_type": "code",
   "execution_count": 26,
   "metadata": {},
   "outputs": [],
   "source": [
    "avg_by_hour = []\n",
    "for hour in counts_by_hour:\n",
    "    avg_by_hour.append([hour,comments_by_hour[hour]/counts_by_hour[hour]])"
   ]
  },
  {
   "cell_type": "code",
   "execution_count": 27,
   "metadata": {},
   "outputs": [
    {
     "data": {
      "text/plain": [
       "[[15, 28.71937984496124],\n",
       " [13, 16.31756756756757],\n",
       " [12, 12.380116959064328],\n",
       " [2, 11.137546468401487],\n",
       " [10, 10.544483985765124]]"
      ]
     },
     "execution_count": 27,
     "metadata": {},
     "output_type": "execute_result"
    }
   ],
   "source": [
    "sorted_avg_by_hour = sorted(avg_by_hour, key =operator.itemgetter(1), reverse= True)\n",
    "#display top 5 \n",
    "sorted_avg_by_hour[:5]"
   ]
  },
  {
   "cell_type": "markdown",
   "metadata": {},
   "source": [
    "Display hour in time format"
   ]
  },
  {
   "cell_type": "code",
   "execution_count": 28,
   "metadata": {},
   "outputs": [
    {
     "name": "stdout",
     "output_type": "stream",
     "text": [
      "15:00:  28.72 average comments per post\n",
      "13:00:  16.32 average comments per post\n",
      "12:00:  12.38 average comments per post\n",
      "02:00:  11.14 average comments per post\n",
      "10:00:  10.54 average comments per post\n"
     ]
    }
   ],
   "source": [
    "for post in sorted_avg_by_hour[:5]:\n",
    "    hour = str(post[0])\n",
    "    datetime_format =  dt.datetime.strptime(hour, \"%H\")\n",
    "    hour_format = datetime_format.strftime(\"%H:%M:\")\n",
    "    print(hour_format,' {:.2f} average comments per post'.format(post[1]))"
   ]
  },
  {
   "cell_type": "markdown",
   "metadata": {},
   "source": [
    "## Conclusion\n",
    "\n",
    "The post that attract people's attention the most is ASK HN type in hacker news site. The best period of time to create ASK HN post is in the afternoon. The best time is around 15:00 eastern time which is equal to 14:00 in central time which is our current location. They are likely to get in average 28 comments per post."
   ]
  }
 ],
 "metadata": {
  "kernelspec": {
   "display_name": "Python 3",
   "language": "python",
   "name": "python3"
  },
  "language_info": {
   "codemirror_mode": {
    "name": "ipython",
    "version": 3
   },
   "file_extension": ".py",
   "mimetype": "text/x-python",
   "name": "python",
   "nbconvert_exporter": "python",
   "pygments_lexer": "ipython3",
   "version": "3.7.7"
  }
 },
 "nbformat": 4,
 "nbformat_minor": 4
}
